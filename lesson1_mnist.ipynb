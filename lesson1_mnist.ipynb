{
 "cells": [
  {
   "cell_type": "code",
   "execution_count": 2,
   "metadata": {
    "scrolled": true
   },
   "outputs": [
    {
     "name": "stdout",
     "output_type": "stream",
     "text": [
      "Epoch 1/1\n",
      "60000/60000 [==============================] - 3s 57us/step - loss: 0.2650 - acc: 0.9219\n",
      "10000/10000 [==============================] - 0s 23us/step\n",
      "test loss: 0.1361885470330715\n",
      "test accuracy: 0.9572\n"
     ]
    }
   ],
   "source": [
    "import matplotlib.pyplot as plt\n",
    "import tensorflow as tf\n",
    "import numpy as np\n",
    "\n",
    "# load mnist dataset\n",
    "mnist = tf.keras.datasets.mnist # mnist is dataset of 28x28 images of handwritten digits and their labels\n",
    "(x_train, y_train),(x_test, y_test) = mnist.load_data() # fill our training/testing tensors\n",
    "\n",
    "# normalize\n",
    "x_train = tf.keras.utils.normalize(x_train, axis=1)\n",
    "x_test = tf.keras.utils.normalize(x_test, axis=1)\n",
    "\n",
    "# build model (output has 10 units for the 10 discrete possible classifications)\n",
    "model = tf.keras.models.Sequential() # feedforward model\n",
    "model.add(tf.keras.layers.Flatten()) # first layer flattens image matrix into vector\n",
    "model.add(tf.keras.layers.Dense(128, activation=tf.nn.relu)) # first hidden layer is dense, with 128 units and uses relu for activation fxn\n",
    "model.add(tf.keras.layers.Dense(128, activation=tf.nn.relu)) \n",
    "model.add(tf.keras.layers.Dense(10, activation=tf.nn.softmax)) # output layer is dense, with 10 units and uses softmax for probability distribution\n",
    "\n",
    "# set training parameters\n",
    "model.compile(optimizer='adam', # adam optimizer: good default just like relu\n",
    "              loss='sparse_categorical_crossentropy', # loss=amount of error, which is what model tries to minimize\n",
    "              metrics=['accuracy']) # also output accuracy during training\n",
    "\n",
    "# train model\n",
    "model.fit(x_train, y_train, epochs=1) # epoch=a training cycle that iterates through all the training data once\n",
    "\n",
    "# we should see a decrease in loss and a corresponding increase in accuracy\n",
    "# but did we overfit?\n",
    "\n",
    "# check with test data (not used in training process, so should be unbiased)\n",
    "val_loss, val_acc = model.evaluate(x_test, y_test)\n",
    "print('test loss: {}'.format(val_loss))\n",
    "print('test accuracy: {}'.format(val_acc))\n",
    "\n",
    "# loss and accuracy should be slightly worse\n",
    "# big red flag if they are same or better\n",
    "\n",
    "# save model\n",
    "model.save('mnist_4layer.model')"
   ]
  },
  {
   "cell_type": "code",
   "execution_count": 3,
   "metadata": {},
   "outputs": [
    {
     "name": "stdout",
     "output_type": "stream",
     "text": [
      "predicted number: 7\n"
     ]
    },
    {
     "data": {
      "image/png": "[encoded data removed]",
      "text/plain": [
       "<matplotlib.figure.Figure at 0x7f25dc008198>"
      ]
     },
     "metadata": {
      "needs_background": "light"
     },
     "output_type": "display_data"
    }
   ],
   "source": [
    "#load model\n",
    "new_model = tf.keras.models.load_model('mnist_4layer.model')\n",
    "\n",
    "#make predictions\n",
    "predictions = new_model.predict(x_test) #predictions will be a matrix of probability dist derived via softmax previously\n",
    "print('predicted number: {}'.format(np.argmax(predictions[0]))) #pick a test choice with largest probability\n",
    "plt.imshow(x_test[0],cmap=plt.cm.binary)\n",
    "plt.show()"
   ]
  }
 ],
 "metadata": {
  "kernelspec": {
   "display_name": "Python 3",
   "language": "python",
   "name": "python3"
  },
  "language_info": {
   "codemirror_mode": {
    "name": "ipython",
    "version": 3
   },
   "file_extension": ".py",
   "mimetype": "text/x-python",
   "name": "python",
   "nbconvert_exporter": "python",
   "pygments_lexer": "ipython3",
   "version": "3.5.2"
  }
 },
 "nbformat": 4,
 "nbformat_minor": 2
}
